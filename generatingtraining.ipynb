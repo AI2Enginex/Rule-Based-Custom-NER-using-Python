{
 "cells": [
  {
   "cell_type": "markdown",
   "metadata": {},
   "source": [
    "# Generating training data for multiple Entities"
   ]
  },
  {
   "cell_type": "markdown",
   "metadata": {},
   "source": [
    "|| ================================================================ ||"
   ]
  },
  {
   "cell_type": "markdown",
   "metadata": {},
   "source": [
    "# Cleaning data and auto creating json files"
   ]
  },
  {
   "cell_type": "code",
   "execution_count": 1,
   "metadata": {},
   "outputs": [],
   "source": [
    "import generatedata as gd\n",
    "import pandas as pd"
   ]
  },
  {
   "cell_type": "code",
   "execution_count": 2,
   "metadata": {},
   "outputs": [],
   "source": [
    "df = pd.read_csv('./ner.csv')\n",
    "df['Category'] = df['Category'].str.lower()\n",
    "\n",
    "df['Category'] = [data.replace(' ','') for data in df['Category'].str.lower()]\n",
    "entity_list = df['Category'].unique().tolist()\n"
   ]
  },
  {
   "cell_type": "code",
   "execution_count": 3,
   "metadata": {},
   "outputs": [
    {
     "data": {
      "text/plain": [
       "['product',\n",
       " 'work_of_art',\n",
       " 'ordinal',\n",
       " 'fundhouse',\n",
       " 'media',\n",
       " 'date',\n",
       " 'gpe',\n",
       " 'cardinal',\n",
       " 'norp',\n",
       " 'performance',\n",
       " 'financialproduct',\n",
       " 'regulator',\n",
       " 'measure',\n",
       " 'law',\n",
       " 'mfconcept',\n",
       " 'money',\n",
       " 'products',\n",
       " 'expenseratio',\n",
       " 'productaddon',\n",
       " 'customeridentifier',\n",
       " 'portfolio',\n",
       " 'kyc',\n",
       " 'org',\n",
       " 'ratingagency',\n",
       " 'productinsight',\n",
       " 'startegy',\n",
       " 'strategy',\n",
       " 'benchmark',\n",
       " 'return',\n",
       " 'investortype',\n",
       " 'taxation',\n",
       " 'banking',\n",
       " 'finacialproductidentifier',\n",
       " 'payoutmethod',\n",
       " 'b2c',\n",
       " 'distribution',\n",
       " 'transactionmethod',\n",
       " 'time',\n",
       " 'trxnplatform',\n",
       " 'bankingidentifier',\n",
       " 'sid_kim_sai',\n",
       " 'customerservice',\n",
       " 'r&t',\n",
       " 'frequency',\n",
       " 'activeproduct',\n",
       " 'passiveproduct',\n",
       " 'consulting',\n",
       " 'person',\n",
       " 'ageband',\n",
       " 'financialorg',\n",
       " 'loc',\n",
       " 'investing',\n",
       " 'quantity',\n",
       " 'fac',\n",
       " 'digitalplatforms',\n",
       " 'rta',\n",
       " 'bank',\n",
       " 'nonfinancialproduct',\n",
       " 'event',\n",
       " 'rtaexpert',\n",
       " 'socialmedia',\n",
       " 'businessfunction',\n",
       " 'assetallocation',\n",
       " 'gov',\n",
       " 'financialinstrument',\n",
       " 'ratings',\n",
       " 'entity',\n",
       " 'mutualfund',\n",
       " 'process',\n",
       " 'charges',\n",
       " 'financialplanning',\n",
       " 'famousinvestor']"
      ]
     },
     "execution_count": 3,
     "metadata": {},
     "output_type": "execute_result"
    }
   ],
   "source": [
    "entity_list"
   ]
  },
  {
   "cell_type": "code",
   "execution_count": 4,
   "metadata": {},
   "outputs": [],
   "source": [
    "(entity_list.sort())"
   ]
  },
  {
   "cell_type": "code",
   "execution_count": 5,
   "metadata": {},
   "outputs": [
    {
     "data": {
      "text/plain": [
       "['activeproduct',\n",
       " 'ageband',\n",
       " 'assetallocation',\n",
       " 'b2c',\n",
       " 'bank',\n",
       " 'banking',\n",
       " 'bankingidentifier',\n",
       " 'benchmark',\n",
       " 'businessfunction',\n",
       " 'cardinal',\n",
       " 'charges',\n",
       " 'consulting',\n",
       " 'customeridentifier',\n",
       " 'customerservice',\n",
       " 'date',\n",
       " 'digitalplatforms',\n",
       " 'distribution',\n",
       " 'entity',\n",
       " 'event',\n",
       " 'expenseratio',\n",
       " 'fac',\n",
       " 'famousinvestor',\n",
       " 'finacialproductidentifier',\n",
       " 'financialinstrument',\n",
       " 'financialorg',\n",
       " 'financialplanning',\n",
       " 'financialproduct',\n",
       " 'frequency',\n",
       " 'fundhouse',\n",
       " 'gov',\n",
       " 'gpe',\n",
       " 'investing',\n",
       " 'investortype',\n",
       " 'kyc',\n",
       " 'law',\n",
       " 'loc',\n",
       " 'measure',\n",
       " 'media',\n",
       " 'mfconcept',\n",
       " 'money',\n",
       " 'mutualfund',\n",
       " 'nonfinancialproduct',\n",
       " 'norp',\n",
       " 'ordinal',\n",
       " 'org',\n",
       " 'passiveproduct',\n",
       " 'payoutmethod',\n",
       " 'performance',\n",
       " 'person',\n",
       " 'portfolio',\n",
       " 'process',\n",
       " 'product',\n",
       " 'productaddon',\n",
       " 'productinsight',\n",
       " 'products',\n",
       " 'quantity',\n",
       " 'r&t',\n",
       " 'ratingagency',\n",
       " 'ratings',\n",
       " 'regulator',\n",
       " 'return',\n",
       " 'rta',\n",
       " 'rtaexpert',\n",
       " 'sid_kim_sai',\n",
       " 'socialmedia',\n",
       " 'startegy',\n",
       " 'strategy',\n",
       " 'taxation',\n",
       " 'time',\n",
       " 'transactionmethod',\n",
       " 'trxnplatform',\n",
       " 'work_of_art']"
      ]
     },
     "execution_count": 5,
     "metadata": {},
     "output_type": "execute_result"
    }
   ],
   "source": [
    "entity_list"
   ]
  },
  {
   "cell_type": "markdown",
   "metadata": {},
   "source": [
    "# storing json files in directory"
   ]
  },
  {
   "cell_type": "code",
   "execution_count": 5,
   "metadata": {},
   "outputs": [],
   "source": [
    "gd.createjson(path='E:/CustomNER/Generate_entity/',feature_name='Category',name='Name',list_name=entity_list,dataset=df)"
   ]
  },
  {
   "cell_type": "code",
   "execution_count": 7,
   "metadata": {},
   "outputs": [],
   "source": [
    "from nercustom_automate import AutoCreatearr , GenerateRules\n",
    "\n",
    "arr = AutoCreatearr(file='./ner.csv')"
   ]
  },
  {
   "cell_type": "markdown",
   "metadata": {},
   "source": [
    "# Generating the training corpus"
   ]
  },
  {
   "cell_type": "code",
   "execution_count": 8,
   "metadata": {},
   "outputs": [],
   "source": [
    "training_corp = arr.get_values(dir='E:/CustomNER/Generate_entity',feature='Category')"
   ]
  },
  {
   "cell_type": "code",
   "execution_count": 9,
   "metadata": {},
   "outputs": [
    {
     "data": {
      "text/plain": [
       "[('E:/CustomNER/Generate_entity/activeproduct.json', 'active product'),\n",
       " ('E:/CustomNER/Generate_entity/ageband.json', 'age band'),\n",
       " ('E:/CustomNER/Generate_entity/assetallocation.json', 'asset allocation'),\n",
       " ('E:/CustomNER/Generate_entity/b2c.json', 'b2c'),\n",
       " ('E:/CustomNER/Generate_entity/bank.json', 'bank'),\n",
       " ('E:/CustomNER/Generate_entity/banking.json', 'banking'),\n",
       " ('E:/CustomNER/Generate_entity/bankingidentifier.json', 'banking identifier'),\n",
       " ('E:/CustomNER/Generate_entity/benchmark.json', 'benchmark'),\n",
       " ('E:/CustomNER/Generate_entity/businessfunction.json', 'business function'),\n",
       " ('E:/CustomNER/Generate_entity/cardinal.json', 'cardinal'),\n",
       " ('E:/CustomNER/Generate_entity/charges.json', 'charges'),\n",
       " ('E:/CustomNER/Generate_entity/consulting.json', 'consulting'),\n",
       " ('E:/CustomNER/Generate_entity/customeridentifier.json',\n",
       "  'customer identifier'),\n",
       " ('E:/CustomNER/Generate_entity/customerservice.json', 'customer service'),\n",
       " ('E:/CustomNER/Generate_entity/date.json', 'date'),\n",
       " ('E:/CustomNER/Generate_entity/digitalplatforms.json', 'digital platforms'),\n",
       " ('E:/CustomNER/Generate_entity/distribution.json', 'distribution'),\n",
       " ('E:/CustomNER/Generate_entity/entity.json', 'entity'),\n",
       " ('E:/CustomNER/Generate_entity/event.json', 'event'),\n",
       " ('E:/CustomNER/Generate_entity/expenseratio.json', 'expense ratio'),\n",
       " ('E:/CustomNER/Generate_entity/fac.json', 'fac'),\n",
       " ('E:/CustomNER/Generate_entity/famousinvestor.json', 'famous investor'),\n",
       " ('E:/CustomNER/Generate_entity/finacialproductidentifier.json',\n",
       "  'finacial product identifier'),\n",
       " ('E:/CustomNER/Generate_entity/financialinstrument.json',\n",
       "  'financial instrument'),\n",
       " ('E:/CustomNER/Generate_entity/financialorg.json', 'financial org'),\n",
       " ('E:/CustomNER/Generate_entity/financialplanning.json', 'financial planning'),\n",
       " ('E:/CustomNER/Generate_entity/financialproduct.json', 'financial product'),\n",
       " ('E:/CustomNER/Generate_entity/frequency.json', 'frequency'),\n",
       " ('E:/CustomNER/Generate_entity/fundhouse.json', 'fund house'),\n",
       " ('E:/CustomNER/Generate_entity/gov.json', 'gov'),\n",
       " ('E:/CustomNER/Generate_entity/gpe.json', 'gpe'),\n",
       " ('E:/CustomNER/Generate_entity/investing.json', 'investing'),\n",
       " ('E:/CustomNER/Generate_entity/investortype.json', 'investor type'),\n",
       " ('E:/CustomNER/Generate_entity/kyc.json', 'kyc'),\n",
       " ('E:/CustomNER/Generate_entity/law.json', 'law'),\n",
       " ('E:/CustomNER/Generate_entity/loc.json', 'loc'),\n",
       " ('E:/CustomNER/Generate_entity/measure.json', 'measure'),\n",
       " ('E:/CustomNER/Generate_entity/media.json', 'media'),\n",
       " ('E:/CustomNER/Generate_entity/mfconcept.json', 'mf concept'),\n",
       " ('E:/CustomNER/Generate_entity/money.json', 'money'),\n",
       " ('E:/CustomNER/Generate_entity/mutualfund.json', 'mutual fund'),\n",
       " ('E:/CustomNER/Generate_entity/nonfinancialproduct.json',\n",
       "  'non financial product'),\n",
       " ('E:/CustomNER/Generate_entity/norp.json', 'norp'),\n",
       " ('E:/CustomNER/Generate_entity/ordinal.json', 'ordinal'),\n",
       " ('E:/CustomNER/Generate_entity/org.json', 'org'),\n",
       " ('E:/CustomNER/Generate_entity/passiveproduct.json', 'passive product'),\n",
       " ('E:/CustomNER/Generate_entity/payoutmethod.json', 'payout method'),\n",
       " ('E:/CustomNER/Generate_entity/performance.json', 'performance'),\n",
       " ('E:/CustomNER/Generate_entity/person.json', 'person'),\n",
       " ('E:/CustomNER/Generate_entity/portfolio.json', 'portfolio'),\n",
       " ('E:/CustomNER/Generate_entity/process.json', 'process'),\n",
       " ('E:/CustomNER/Generate_entity/product.json', 'product'),\n",
       " ('E:/CustomNER/Generate_entity/productaddon.json', 'product addon'),\n",
       " ('E:/CustomNER/Generate_entity/productinsight.json', 'product insight'),\n",
       " ('E:/CustomNER/Generate_entity/products.json', 'products'),\n",
       " ('E:/CustomNER/Generate_entity/quantity.json', 'quantity'),\n",
       " ('E:/CustomNER/Generate_entity/r&t.json', 'r&t'),\n",
       " ('E:/CustomNER/Generate_entity/ratingagency.json', 'rating agency'),\n",
       " ('E:/CustomNER/Generate_entity/ratings.json', 'ratings'),\n",
       " ('E:/CustomNER/Generate_entity/regulator.json', 'regulator'),\n",
       " ('E:/CustomNER/Generate_entity/return.json', 'return'),\n",
       " ('E:/CustomNER/Generate_entity/rta.json', 'rta'),\n",
       " ('E:/CustomNER/Generate_entity/rtaexpert.json', 'rta expert'),\n",
       " ('E:/CustomNER/Generate_entity/sid_kim_sai.json', 'sid_kim_sai'),\n",
       " ('E:/CustomNER/Generate_entity/socialmedia.json', 'social media'),\n",
       " ('E:/CustomNER/Generate_entity/startegy.json', 'startegy'),\n",
       " ('E:/CustomNER/Generate_entity/strategy.json', 'strategy'),\n",
       " ('E:/CustomNER/Generate_entity/taxation.json', 'taxation'),\n",
       " ('E:/CustomNER/Generate_entity/time.json', 'time'),\n",
       " ('E:/CustomNER/Generate_entity/transactionmethod.json', 'transaction method'),\n",
       " ('E:/CustomNER/Generate_entity/trxnplatform.json', 'trxn platform'),\n",
       " ('E:/CustomNER/Generate_entity/work_of_art.json', 'work_of_art')]"
      ]
     },
     "execution_count": 9,
     "metadata": {},
     "output_type": "execute_result"
    }
   ],
   "source": [
    "training_corp"
   ]
  },
  {
   "cell_type": "code",
   "execution_count": 10,
   "metadata": {},
   "outputs": [
    {
     "data": {
      "text/plain": [
       "72"
      ]
     },
     "execution_count": 10,
     "metadata": {},
     "output_type": "execute_result"
    }
   ],
   "source": [
    "len(training_corp)"
   ]
  },
  {
   "cell_type": "markdown",
   "metadata": {},
   "source": [
    "# Generating patterns data (a set of rules)"
   ]
  },
  {
   "cell_type": "code",
   "execution_count": 11,
   "metadata": {},
   "outputs": [],
   "source": [
    "generate = GenerateRules(data_pair=training_corp,generatefilejson='MF_patterns.json',prefix='no',split_words='no')"
   ]
  },
  {
   "cell_type": "code",
   "execution_count": 12,
   "metadata": {},
   "outputs": [],
   "source": [
    "patterns_data = generate.traindata()"
   ]
  },
  {
   "cell_type": "markdown",
   "metadata": {},
   "source": [
    "# displaying patterns data fro all entities\n",
    "\n",
    "we will use this patterns data from our Custom model"
   ]
  },
  {
   "cell_type": "code",
   "execution_count": 13,
   "metadata": {},
   "outputs": [
    {
     "data": {
      "text/plain": [
       "10296"
      ]
     },
     "execution_count": 13,
     "metadata": {},
     "output_type": "execute_result"
    }
   ],
   "source": [
    "len(patterns_data)"
   ]
  },
  {
   "cell_type": "markdown",
   "metadata": {},
   "source": [
    "# Generating custom model \n",
    "\n",
    "  this model can now classify multiple entities and can be used to create Training data for our own Custom NER model\n",
    "  "
   ]
  },
  {
   "cell_type": "code",
   "execution_count": 14,
   "metadata": {},
   "outputs": [],
   "source": [
    "generate.generate_model(\"mutual_funds_custom_model\")"
   ]
  }
 ],
 "metadata": {
  "kernelspec": {
   "display_name": "Python 3 (ipykernel)",
   "language": "python",
   "name": "python3"
  },
  "language_info": {
   "codemirror_mode": {
    "name": "ipython",
    "version": 3
   },
   "file_extension": ".py",
   "mimetype": "text/x-python",
   "name": "python",
   "nbconvert_exporter": "python",
   "pygments_lexer": "ipython3",
   "version": "3.11.4"
  }
 },
 "nbformat": 4,
 "nbformat_minor": 2
}
